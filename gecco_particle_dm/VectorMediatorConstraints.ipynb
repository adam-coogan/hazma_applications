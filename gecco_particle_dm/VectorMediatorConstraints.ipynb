{
 "cells": [
  {
   "cell_type": "markdown",
   "metadata": {},
   "source": [
    "# Vector Mediator Constraints"
   ]
  },
  {
   "cell_type": "code",
   "execution_count": 1,
   "metadata": {},
   "outputs": [],
   "source": [
    "from itertools import cycle\n",
    "import matplotlib.pyplot as plt\n",
    "import numpy as np\n",
    "from tqdm.auto import tqdm, trange\n",
    "from collections import defaultdict\n",
    "from scipy.interpolate import interp1d\n",
    "from matplotlib.ticker import LogLocator, NullFormatter\n",
    "\n",
    "from hazma.parameters import (\n",
    "    sv_inv_MeV_to_cm3_per_s,\n",
    "    muon_mass as m_mu,\n",
    "    charged_pion_mass as m_pi,\n",
    "    neutral_pion_mass as m_pi0,\n",
    "    electron_mass as m_e,\n",
    "    omega_h2_cdm\n",
    ")\n",
    "from hazma.gamma_ray_parameters import *\n",
    "\n",
    "from hazma.theory import TheoryDec\n",
    "from hazma.scalar_mediator import HiggsPortal, HeavyQuark\n",
    "from hazma.vector_mediator import KineticMixing, QuarksOnly\n",
    "from hazma.single_channel import SingleChannelAnn, SingleChannelDec\n",
    "from hazma.relic_density import relic_density\n",
    "\n",
    "import pickle\n",
    "from skimage.measure import find_contours"
   ]
  },
  {
   "cell_type": "code",
   "execution_count": 2,
   "metadata": {},
   "outputs": [],
   "source": [
    "colors = ['#1f77b4', \n",
    "          '#ff7f0e',\n",
    "          '#2ca02c',\n",
    "          '#d62728',\n",
    "          '#9467bd',\n",
    "          '#8c564b',\n",
    "          '#e377c2',\n",
    "          '#7f7f7f',\n",
    "          '#bcbd22',\n",
    "          '#17becf']"
   ]
  },
  {
   "cell_type": "markdown",
   "metadata": {},
   "source": [
    "## Tools"
   ]
  },
  {
   "cell_type": "code",
   "execution_count": 3,
   "metadata": {},
   "outputs": [],
   "source": [
    "def __fix_contours(contours, p1s, p2s):\n",
    "    \"\"\"\n",
    "    Fix the contours produced by skimage's marching squares algorithm. Note\n",
    "    that their algorithm determines the contours based on the indices\n",
    "    and not actually coordinates.\n",
    "\n",
    "    Parameters\n",
    "    ----------\n",
    "    contours : array-like\n",
    "        Contours produced by skimage.\n",
    "    p1s: array-like\n",
    "        Array of the horizontal-axis parameters.\n",
    "    p2s: array-like\n",
    "        Array of the vertical-axis parameters.\n",
    "\n",
    "    Returns\n",
    "    -------\n",
    "    new_contours: array-like\n",
    "        New contours with coordinates instead of indices.\n",
    "    \"\"\"\n",
    "    new_contours = []\n",
    "\n",
    "    for contour in contours:\n",
    "        _p2s, _p1s = contour.T\n",
    "\n",
    "        new_p2s = np.interp(_p2s, np.arange(len(p2s)), p2s)\n",
    "        new_p1s = np.interp(_p1s, np.arange(len(p1s)), p1s)\n",
    "\n",
    "        new_contours.append([new_p1s, new_p2s])\n",
    "\n",
    "    return new_contours"
   ]
  },
  {
   "cell_type": "code",
   "execution_count": 4,
   "metadata": {},
   "outputs": [],
   "source": [
    "# Base figure size\n",
    "fig_dim = 4\n",
    "mpl_colors = 2*[c[\"color\"] for c in plt.rcParams[\"axes.prop_cycle\"]]\n",
    "\n",
    "\n",
    "# Other constants\n",
    "T_obs_nt = 1e6  # s\n",
    "v_mw = 1e-3\n",
    "x_kd = 1e-6  # DM mass divided by T_kd\n",
    "\n",
    "# This is approximately the same as `gc_bg_model`, but does not constrain\n",
    "# the input energies.\n",
    "gc_bg_model_approx = BackgroundModel(\n",
    "    [0, 1e5], lambda e: 7 * default_bg_model.dPhi_dEdOmega(e)\n",
    ")\n",
    "# Best selection of targets\n",
    "nt_targets_ann = {\n",
    "    \"gc_ein_1_arcmin_cone_optimistic\": (\n",
    "        gc_targets_optimistic[\"ein\"][\"1 arcmin cone\"], gc_bg_model_approx\n",
    "    ),\n",
    "    \"gc_nfw_1_arcmin_cone\": (gc_targets[\"nfw\"][\"1 arcmin cone\"], gc_bg_model_approx),\n",
    "    \"m31_nfw_1_arcmin_cone\": (m31_targets[\"nfw\"][\"1 arcmin cone\"], gecco_bg_model),\n",
    "    \"draco_nfw_1_arcmin_cone\": (\n",
    "        draco_targets[\"nfw\"][\"1 arcmin cone\"], gecco_bg_model\n",
    "    )\n",
    "}\n",
    "nt_targets_dec = {\n",
    "    \"gc_ein_5_deg_optimistic\": (\n",
    "        gc_targets_optimistic[\"ein\"][\"5 deg cone\"], gc_bg_model_approx\n",
    "    ),\n",
    "    \"gc_nfw_5_deg\": (gc_targets[\"nfw\"][\"5 deg cone\"], gc_bg_model_approx),\n",
    "    \"m31_nfw_5_deg\": (m31_targets[\"nfw\"][\"5 deg cone\"], gecco_bg_model),\n",
    "    \"draco_nfw_5_deg\": (\n",
    "        draco_targets[\"nfw\"][\"5 deg cone\"], gecco_bg_model\n",
    "    )\n",
    "}\n",
    "\n",
    "\n",
    "def set_m_med(model, m_med):\n",
    "    if hasattr(model, \"ms\"):\n",
    "        model.ms = m_med\n",
    "    elif hasattr(model, \"mv\"):\n",
    "        model.mv = m_med\n",
    "    else:\n",
    "        raise AttributeError(\"could not determine mediator name\")\n",
    "\n",
    "\n",
    "def get_constraints(\n",
    "    model,\n",
    "    mxs,\n",
    "    m_meds=None,\n",
    "    nt_targets={},\n",
    "    existing=[\"comptel\", \"egret\", \"fermi\", \"integral\"],\n",
    "    cmb=True\n",
    "):\n",
    "    constraints = defaultdict(lambda: np.zeros(len(mxs)))\n",
    "\n",
    "    for i in trange(len(mxs)):\n",
    "        model.mx = mxs[i]\n",
    "        if m_meds is not None:\n",
    "            set_m_med(model, m_meds[i])\n",
    "\n",
    "        # Constraints from existing data\n",
    "        for telescope in existing:\n",
    "            constraints[telescope][i] = model.binned_limit(eval(f\"{telescope}_diffuse\"))\n",
    "\n",
    "        # Projections\n",
    "        for key, (target, bg_model) in nt_targets.items():\n",
    "            constraints[\"gecco_\" + key][i] = model.unbinned_limit(\n",
    "                A_eff_gecco,\n",
    "                energy_res_gecco,\n",
    "                T_obs_nt,\n",
    "                target,\n",
    "                bg_model,\n",
    "            )\n",
    "\n",
    "        # TODO: what x_kd value should be used for decaying DM?\n",
    "        if cmb:\n",
    "            constraints[\"cmb\"][i] = model.cmb_limit(x_kd=x_kd)\n",
    "\n",
    "    return dict(constraints)\n",
    "\n",
    "def get_constraint_label(key):\n",
    "    label = key.replace(\"comptel\", \"COMPTEL\")\n",
    "    label = label.replace(\"egret\", \"EGRET \")\n",
    "    label = label.replace(\"fermi\", \"Fermi \")\n",
    "    label = label.replace(\"integral\", \"INTEGRAL \")\n",
    "    label = label.replace(\"gecco_\", \"GECCO \")\n",
    "    \n",
    "    label = label.replace(\"gc_nfw_1_arcmin_cone\", \"(GC $1'$, NFW)\")\n",
    "    label = label.replace(\"gc_nfw_5_deg\", \"(GC $5^\\circ$, NFW)\")\n",
    "    label = label.replace(\"gc_ein_1_arcmin_cone_optimistic\", \"(GC $1'$, Einasto)\")\n",
    "    label = label.replace(\"gc_ein_5_deg_optimistic\", \"(GC $5^\\circ$, Einasto)\")\n",
    "    label = label.replace(\"m31_nfw_1_arcmin_cone\", \"(M31 $1'$)\")\n",
    "    label = label.replace(\"m31_nfw_5_deg\", \"(M31 $5^\\circ$)\")\n",
    "    label = label.replace(\"draco_nfw_1_arcmin_cone\", \"(Draco $1'$)\")\n",
    "    label = label.replace(\"draco_nfw_5_deg\", \"(Draco $5^\\circ$)\")\n",
    "    \n",
    "    return label\n",
    "\n",
    "def get_fs_label(fs):\n",
    "    if fs == \"e e\":\n",
    "        return r\"$e^+ e^-$\"\n",
    "    elif fs == \"mu mu\":\n",
    "        return r\"$\\mu^+ \\mu^-$\"\n",
    "    elif fs == \"pi pi\":\n",
    "        return r\"$\\pi^+ \\pi^-$\"\n",
    "    elif fs == \"pi0 pi0\":\n",
    "        return r\"$\\pi^0 \\pi^0$\"\n",
    "    elif fs == \"pi0 g\":\n",
    "        return r\"$\\pi^0 \\gamma$\"\n",
    "    elif fs == \"g g\":\n",
    "        return r\"$\\gamma \\gamma$\"\n",
    "    else:\n",
    "        return fs\n",
    "\n",
    "def plot_existing(ax, mxs, svs, label, color, y2=1):\n",
    "    \"\"\"\n",
    "    Plots an existing constraint.\n",
    "    \"\"\"\n",
    "    if label == r\"CMB ($s$-wave)\":\n",
    "        ax.plot(mxs[fs], svs, \"-.k\", linewidth=1, label=label)\n",
    "    elif label == r\"CMB ($p$-wave)\":\n",
    "        v_cmbs = 2e-4 * (0.235) * (1 / mxs) * np.sqrt(1e-4 / x_kd)\n",
    "        ax.plot(\n",
    "            mxs, svs * (v_mw / v_cmbs)**2, \"--k\", linewidth=1, label=label\n",
    "        )\n",
    "    else:\n",
    "        ax.fill_between(mxs, svs, y2=y2, label=label, alpha=0.2, color=color)\n",
    "        ax.loglog(mxs, svs, \"-\", color=color, linewidth=0.5)\n",
    "\n",
    "# Global formatting\n",
    "colors = {\n",
    "    \"comptel\": mpl_colors[0],\n",
    "    \"egret\": mpl_colors[1],\n",
    "    \"fermi\": mpl_colors[2],\n",
    "    \"integral\": mpl_colors[3],\n",
    "    \"gc_ein_1_arcmin_cone_optimistic\": mpl_colors[4],\n",
    "    \"gc_ein_5_deg_optimistic\": mpl_colors[4],\n",
    "    \"gc_nfw_1_arcmin_cone\": mpl_colors[5],\n",
    "    \"gc_nfw_5_deg\": mpl_colors[5],\n",
    "    \"m31_nfw_1_arcmin_cone\": mpl_colors[6],\n",
    "    \"m31_nfw_5_deg\": mpl_colors[6],\n",
    "    \"draco_nfw_1_arcmin_cone\": mpl_colors[7],\n",
    "    \"draco_nfw_5_deg\": mpl_colors[7],\n",
    "}\n",
    "\n",
    "linestyles = {\n",
    "    \"gc_ein_1_arcmin_cone_optimistic\": \"-\",\n",
    "    \"gc_ein_5_deg_optimistic\": \"-\",\n",
    "    \"gc_nfw_1_arcmin_cone\": \"--\",\n",
    "    \"gc_nfw_5_deg\": \"--\",\n",
    "    \"m31_nfw_1_arcmin_cone\": \":\",\n",
    "    \"m31_nfw_5_deg\": \":\",\n",
    "    \"draco_nfw_1_arcmin_cone\": \":\",\n",
    "    \"draco_nfw_5_deg\": \":\",\n",
    "}"
   ]
  },
  {
   "cell_type": "code",
   "execution_count": 5,
   "metadata": {},
   "outputs": [],
   "source": [
    "def get_svs_pheno(model, mx, mv, eps, vx=1e-3):\n",
    "    \"\"\"\n",
    "    Converts pheno constraint on stheta to <sigma v>.\n",
    "    \"\"\"\n",
    "    model.eps = eps # pheno constraint\n",
    "    model.mx = mx\n",
    "    model.mv = mv\n",
    "    # Approximate the thermal average as sigma * v\n",
    "    sv = model.annihilation_cross_sections(\n",
    "        2 * model.mx * (1 + 0.5 * vx**2)\n",
    "    )[\"total\"] * vx\n",
    "    return sv * sv_inv_MeV_to_cm3_per_s\n"
   ]
  },
  {
   "cell_type": "code",
   "execution_count": 19,
   "metadata": {},
   "outputs": [],
   "source": [
    "colors = ['#1f77b4', \n",
    "          '#ff7f0e',\n",
    "          '#2ca02c',\n",
    "          '#d62728',\n",
    "          '#9467bd',\n",
    "          '#8c564b',\n",
    "          '#e377c2',\n",
    "          '#7f7f7f',\n",
    "          '#bcbd22',\n",
    "          '#17becf']"
   ]
  },
  {
   "cell_type": "markdown",
   "metadata": {
    "heading_collapsed": true
   },
   "source": [
    "## $M_{V} = 1$ GeV"
   ]
  },
  {
   "cell_type": "code",
   "execution_count": 5,
   "metadata": {
    "hidden": true
   },
   "outputs": [],
   "source": [
    "km = KineticMixing(**{\"mx\": 1., \"mv\": 1000.0, \"gvxx\": 1., \"eps\": 0.1})\n",
    "mxs = np.geomspace(0.1, 250.0, 100)"
   ]
  },
  {
   "cell_type": "code",
   "execution_count": 5,
   "metadata": {
    "hidden": true
   },
   "outputs": [
    {
     "data": {
      "application/vnd.jupyter.widget-view+json": {
       "model_id": "bd91b3a229f141c8a75f166dc23d1568",
       "version_major": 2,
       "version_minor": 0
      },
      "text/plain": [
       "HBox(children=(HTML(value=''), FloatProgress(value=0.0), HTML(value='')))"
      ]
     },
     "metadata": {},
     "output_type": "display_data"
    },
    {
     "name": "stderr",
     "output_type": "stream",
     "text": [
      "/Users/loganmorrison/.pyenv/versions/3.8.6/lib/python3.8/site-packages/hazma/vector_mediator/_vector_mediator_spectra.py:112: IntegrationWarning: The integral is probably divergent, or slowly convergent.\n",
      "  return dnde_decay_v(e_gams, e_v, mv, pw_array, fs)\n",
      "/Users/loganmorrison/.pyenv/versions/3.8.6/lib/python3.8/site-packages/hazma/vector_mediator/_vector_mediator_spectra.py:112: IntegrationWarning: The algorithm does not converge.  Roundoff error is detected\n",
      "  in the extrapolation table.  It is assumed that the requested tolerance\n",
      "  cannot be achieved, and that the returned result (if full_output = 1) is \n",
      "  the best which can be obtained.\n",
      "  return dnde_decay_v(e_gams, e_v, mv, pw_array, fs)\n",
      "/Users/loganmorrison/.pyenv/versions/3.8.6/lib/python3.8/site-packages/hazma/theory/_theory_gamma_ray_limits.py:236: RuntimeWarning: divide by zero encountered in double_scalars\n",
      "  bound = prefactor * n_sigma / np.nanmax(snrs[:, 2])\n",
      "/Users/loganmorrison/.pyenv/versions/3.8.6/lib/python3.8/site-packages/hazma/background_model.py:48: UserWarning: The gamma ray background model is not applicable for energy 0.100000 MeV.\n",
      "  warnings.warn(\n",
      "/Users/loganmorrison/.pyenv/versions/3.8.6/lib/python3.8/site-packages/hazma/theory/_theory_cmb.py:44: RuntimeWarning: divide by zero encountered in double_scalars\n",
      "  return p_ann * self.mx / self.f_eff(x_kd)\n",
      "/Users/loganmorrison/.pyenv/versions/3.8.6/lib/python3.8/site-packages/hazma/vector_mediator/_vector_mediator_spectra.py:112: IntegrationWarning: The occurrence of roundoff error is detected, which prevents \n",
      "  the requested tolerance from being achieved.  The error may be \n",
      "  underestimated.\n",
      "  return dnde_decay_v(e_gams, e_v, mv, pw_array, fs)\n",
      "/Users/loganmorrison/.pyenv/versions/3.8.6/lib/python3.8/site-packages/hazma/decay.py:54: IntegrationWarning: The integral is probably divergent, or slowly convergent.\n",
      "  return decay_muon.SpectrumPoint(photon_energies, muon_energy)\n",
      "/Users/loganmorrison/.pyenv/versions/3.8.6/lib/python3.8/site-packages/hazma/decay.py:141: IntegrationWarning: The integral is probably divergent, or slowly convergent.\n",
      "  return decay_charged_pion.Spectrum(photon_energies, pion_energy, mode)\n"
     ]
    },
    {
     "name": "stdout",
     "output_type": "stream",
     "text": [
      "\n"
     ]
    }
   ],
   "source": [
    "sv_constraints_vms = get_constraints(km, mxs, nt_targets=nt_targets_ann)"
   ]
  },
  {
   "cell_type": "code",
   "execution_count": 21,
   "metadata": {
    "hidden": true
   },
   "outputs": [],
   "source": [
    "sv_constraints_vms['telescopes'] = np.array([\n",
    "    np.min([\n",
    "        sv_constraints_vms['comptel'][i],\n",
    "        sv_constraints_vms['egret'][i],\n",
    "        sv_constraints_vms['fermi'][i],\n",
    "        sv_constraints_vms['integral'][i]\n",
    "    ])\n",
    "    for i in range(len(mxs))\n",
    "])"
   ]
  },
  {
   "cell_type": "code",
   "execution_count": 6,
   "metadata": {
    "hidden": true
   },
   "outputs": [],
   "source": [
    "# BaBar constraint at MV = 1GeV ~ eps < 3.15e-3\n",
    "pheno = np.array([get_svs_pheno(km, mx, 1000.0, 9.2e-4) for mx in mxs])"
   ]
  },
  {
   "cell_type": "code",
   "execution_count": 8,
   "metadata": {
    "hidden": true
   },
   "outputs": [
    {
     "data": {
      "application/vnd.jupyter.widget-view+json": {
       "model_id": "fe9292bfb63949d39fbfcc737bd3c8ab",
       "version_major": 2,
       "version_minor": 0
      },
      "text/plain": [
       "HBox(children=(HTML(value=''), FloatProgress(value=0.0), HTML(value='')))"
      ]
     },
     "metadata": {},
     "output_type": "display_data"
    },
    {
     "name": "stderr",
     "output_type": "stream",
     "text": [
      "/Users/loganmorrison/.pyenv/versions/3.8.6/lib/python3.8/site-packages/hazma/relic_density/__init__.py:413: RuntimeWarning: overflow encountered in exp\n",
      "  return np.array([pf * sv * (np.exp(w[0]) - np.exp(2.0 * _weq - w[0]))])\n"
     ]
    },
    {
     "name": "stdout",
     "output_type": "stream",
     "text": [
      "\n"
     ]
    }
   ],
   "source": [
    "# Relic densities\n",
    "epss = np.logspace(-10, 1, 100)\n",
    "rds = np.zeros((len(mxs), len(epss)))\n",
    "for i in trange(len(mxs)):\n",
    "    km.mx = mxs[i]\n",
    "    for j, eps in enumerate(epss):\n",
    "        km.eps = eps\n",
    "        rds[i,j] = relic_density(km, semi_analytic=False, xf=500)"
   ]
  },
  {
   "cell_type": "code",
   "execution_count": null,
   "metadata": {
    "hidden": true
   },
   "outputs": [],
   "source": [
    "rd_mxs, rd_epss = __fix_contours(find_contours(rds.T, omega_h2_cdm), mxs, epss)[0]\n",
    "rd_svs = [get_svs_pheno(km, rd_mxs[i], 1e3, rd_epss[i]) for i in range(len(rd_mxs))]"
   ]
  },
  {
   "cell_type": "code",
   "execution_count": 10,
   "metadata": {
    "hidden": true
   },
   "outputs": [
    {
     "data": {
      "text/plain": [
       "0.04586770150910278"
      ]
     },
     "execution_count": 10,
     "metadata": {},
     "output_type": "execute_result"
    }
   ],
   "source": [
    "km.mx = rd_mxs[-1]\n",
    "km.eps = rd_epss[-1]\n",
    "relic_density(km)"
   ]
  },
  {
   "cell_type": "code",
   "execution_count": 7,
   "metadata": {
    "hidden": true
   },
   "outputs": [],
   "source": [
    "\"\"\" Save the data\n",
    "with open('data/kinetic_mixing.p', 'wb') as f:\n",
    "    pickle.dump(sv_constraints_vms, f)\n",
    "\"\"\"\n",
    "\n",
    "#Load the data\n",
    "sv_constraints_vms = None\n",
    "with open('data/kinetic_mixing.p', 'rb') as f:\n",
    "    sv_constraints_vms = pickle.load(f)"
   ]
  },
  {
   "cell_type": "code",
   "execution_count": 10,
   "metadata": {
    "hidden": true
   },
   "outputs": [
    {
     "data": {
      "image/png": "[encoded data removed]",
      "text/plain": [
       "<Figure size 900x600 with 1 Axes>"
      ]
     },
     "metadata": {
      "needs_background": "light"
     },
     "output_type": "display_data"
    }
   ],
   "source": [
    "#fig, (ax1, ax2) = plt.subplots(1, 2)\n",
    "#fig.dpi = 150\n",
    "\n",
    "plt.figure(dpi=150)\n",
    "\n",
    "ymin, ymax = [1e-33, 1e-23]\n",
    "\n",
    "plt.plot(\n",
    "    mxs, \n",
    "    sv_constraints_vms['cmb'], \n",
    "    label=r'CMB',\n",
    "    linestyle=\"--\",\n",
    "    color=\"black\",\n",
    ")\n",
    "\n",
    "#plt.plot(\n",
    "#    rd_mxs, \n",
    "#    rd_svs, \n",
    "#    label=r'Thermal Relic',\n",
    "#    linestyle=\"-\",\n",
    "#    color=\"black\",\n",
    "#)\n",
    "\n",
    "\n",
    "plt.fill_between(\n",
    "    mxs, \n",
    "    pheno, \n",
    "    ymax, \n",
    "    label=r'BaBar',\n",
    "    linestyle=\"-\",\n",
    "    color=colors[0],\n",
    "    alpha=0.3\n",
    ")\n",
    "\n",
    "\n",
    "plt.fill_between(\n",
    "    mxs, \n",
    "    sv_constraints_vms['telescopes'], \n",
    "    ymax, \n",
    "    label=r'$\\gamma$-ray telescopes',\n",
    "    linestyle=\"-\",\n",
    "    color=colors[2],\n",
    "    alpha=0.3\n",
    ")\n",
    "\n",
    "\n",
    "\n",
    "plt.plot(\n",
    "    mxs,     \n",
    "    sv_constraints_vms['gecco_gc_ein_1_arcmin_cone_optimistic'],  \n",
    "    label=get_constraint_label('gecco_gc_ein_1_arcmin_cone_optimistic'),\n",
    "    linestyle=\"-\",\n",
    "    color=colors[4],\n",
    ")\n",
    "\n",
    "\n",
    "plt.plot(\n",
    "    mxs,     \n",
    "    sv_constraints_vms['gecco_gc_nfw_1_arcmin_cone'],  \n",
    "    label=get_constraint_label('gecco_gc_nfw_1_arcmin_cone'),\n",
    "    linestyle=\"-\",\n",
    "    color=colors[5],\n",
    ")\n",
    "\n",
    "\n",
    "plt.plot(\n",
    "    mxs,     \n",
    "    sv_constraints_vms['gecco_m31_nfw_1_arcmin_cone'],  \n",
    "    label=get_constraint_label('gecco_m31_nfw_1_arcmin_cone'),\n",
    "    linestyle=\"-\",\n",
    "    color=colors[6],\n",
    ")\n",
    "\n",
    "plt.plot(\n",
    "    mxs,     \n",
    "    sv_constraints_vms['gecco_draco_nfw_1_arcmin_cone'],  \n",
    "    label=get_constraint_label('gecco_draco_nfw_1_arcmin_cone'),\n",
    "    linestyle=\"-\",\n",
    "    color=colors[7],\n",
    ")\n",
    "    \n",
    "\n",
    "plt.yscale('log')\n",
    "plt.xscale('log')\n",
    "    \n",
    "plt.ylim([ymin, ymax])\n",
    "plt.xlim([m_e*1.1, np.max(mxs)])\n",
    "plt.ylabel(r'$\\langle\\sigma v\\rangle \\ (\\mathrm{cm}^3\\mathrm{s}^{-1})$',fontsize=16)\n",
    "plt.xlabel(r'$m_{\\chi} \\ (\\mathrm{MeV})$',fontsize=16)\n",
    "\n",
    "plt.legend(loc=0, bbox_to_anchor=(1.1,0.75), fontsize=8)\n",
    "plt.tight_layout()\n",
    "#plt.show()\n",
    "plt.savefig('figures/gecco_kinetic_mixing.pdf')"
   ]
  },
  {
   "cell_type": "markdown",
   "metadata": {},
   "source": [
    "## mx = mv/3"
   ]
  },
  {
   "cell_type": "code",
   "execution_count": 6,
   "metadata": {},
   "outputs": [],
   "source": [
    "alphad = 0.5\n",
    "gvxx = np.sqrt(4.0 * np.pi * alphad)\n",
    "\n",
    "mxs = np.geomspace(0.1, 250.0, 100)\n",
    "mvs = 3 * mxs\n",
    "km = KineticMixing(**{\"mx\": 1., \"mv\": 1000.0, \"gvxx\": 1., \"eps\": 0.1})"
   ]
  },
  {
   "cell_type": "markdown",
   "metadata": {
    "heading_collapsed": true
   },
   "source": [
    "### Tools for computing PHENO constraints"
   ]
  },
  {
   "cell_type": "code",
   "execution_count": 10,
   "metadata": {
    "hidden": true
   },
   "outputs": [],
   "source": [
    "babar_data = np.genfromtxt(\"data/BaBar.dat\",delimiter=\",\")\n",
    "lsnd_data = np.genfromtxt(\"data/LSND.dat\",delimiter=\",\")\n",
    "e137_data = np.genfromtxt(\"data/E137.dat\", delimiter=\",\")\n",
    "\n",
    "babar_interp = interp1d(babar_data.T[0], babar_data.T[1])\n",
    "lsnd_interp = interp1d(lsnd_data.T[0], lsnd_data.T[1])\n",
    "e137_interp = interp1d(e137_data.T[0], e137_data.T[1])\n",
    "\n",
    "def babar_constraint(mx, mv=None, alphad=0.5, vx=1e-3):\n",
    "    if mx * 1e-3  > babar_data.T[0][-1]:\n",
    "        return np.inf\n",
    "    if mx * 1e-3 < babar_data.T[0][0]:\n",
    "        y = babar_data.T[1][0]\n",
    "    else:\n",
    "        y = babar_interp(mx * 1e-3)\n",
    "    mv = 3.0 * mx if mv is None else mv\n",
    "    gvxx = np.sqrt(4.0 * np.pi * alphad)\n",
    "    # y = eps**2 * alphad / 3**4\n",
    "    eps = np.sqrt((mx / mv)**4 * y / alphad)\n",
    "    model = KineticMixing(**{\"mx\": mx, \"mv\": 3.0 * mx, \"gvxx\": gvxx, \"eps\": eps})\n",
    "    sv = model.annihilation_cross_sections(2 * model.mx * (1 + 0.5 * vx**2))[\"total\"] * vx\n",
    "    return sv * sv_inv_MeV_to_cm3_per_s\n",
    "    \n",
    "def lsnd_constraint(mx, mv=None, alphad=0.5, vx=1e-3):\n",
    "    if mx * 1e-3 > lsnd_data.T[0][-1]:\n",
    "        return np.inf\n",
    "    if mx * 1e-3 < lsnd_data.T[0][0]:\n",
    "        y = lsnd_data.T[1][0]\n",
    "    else:\n",
    "        y = lsnd_interp(mx * 1e-3)\n",
    "    mv = 3.0 * mx if mv is None else mv\n",
    "    gvxx = np.sqrt(4.0 * np.pi * alphad)\n",
    "    # y = eps**2 * alphad / 3**4\n",
    "    eps = np.sqrt((mx / mv)**4 * y / alphad)\n",
    "    model = KineticMixing(**{\"mx\": mx, \"mv\": 3.0 * mx, \"gvxx\": gvxx, \"eps\": eps})\n",
    "    sv = model.annihilation_cross_sections(2 * model.mx * (1 + 0.5 * vx**2))[\"total\"] * vx\n",
    "    return sv * sv_inv_MeV_to_cm3_per_s\n",
    "\n",
    "def e137_constraint(mx, mv=None, alphad=0.5, vx=1e-3):\n",
    "    \"\"\"\n",
    "    Compute the constraint on kinetix mixing model from E137 (see arXiv:1808.0077).\n",
    "    The mediator mass is assumed to be \n",
    "    \"\"\"\n",
    "    # mx * 1e-3 < e137_data.T[0][0] or \n",
    "    if mx * 1e-3 > e137_data.T[0][-1]:\n",
    "        return np.inf\n",
    "    if mx * 1e-3 < e137_data.T[0][0]:\n",
    "        y = e137_data.T[1][0]\n",
    "    else:\n",
    "        y = e137_interp(mx * 1e-3)\n",
    "    mv = 3.0 * mx if mv is None else mv\n",
    "    gvxx = np.sqrt(4.0 * np.pi * alphad)\n",
    "    # y = eps**2 * alphad / 3**4\n",
    "    eps = np.sqrt((mx / mv)**4 * y / alphad)\n",
    "    model = KineticMixing(**{\"mx\": mx, \"mv\": mv, \"gvxx\": gvxx, \"eps\": eps})\n",
    "    sv = model.annihilation_cross_sections(2 * model.mx * (1 + 0.5 * vx**2))[\"total\"] * vx\n",
    "    return sv * sv_inv_MeV_to_cm3_per_s"
   ]
  },
  {
   "cell_type": "markdown",
   "metadata": {
    "heading_collapsed": true
   },
   "source": [
    "### Compute the $\\gamma$-ray constraints"
   ]
  },
  {
   "cell_type": "code",
   "execution_count": 8,
   "metadata": {
    "hidden": true
   },
   "outputs": [
    {
     "data": {
      "application/vnd.jupyter.widget-view+json": {
       "model_id": "fc2b00e3cc504fbb9233c97e47d9ad05",
       "version_major": 2,
       "version_minor": 0
      },
      "text/plain": [
       "HBox(children=(HTML(value=''), FloatProgress(value=0.0), HTML(value='')))"
      ]
     },
     "metadata": {},
     "output_type": "display_data"
    },
    {
     "name": "stderr",
     "output_type": "stream",
     "text": [
      "/Users/loganmorrison/.pyenv/versions/3.8.6/lib/python3.8/site-packages/hazma/theory/_theory_gamma_ray_limits.py:236: RuntimeWarning: divide by zero encountered in double_scalars\n",
      "  bound = prefactor * n_sigma / np.nanmax(snrs[:, 2])\n",
      "/Users/loganmorrison/.pyenv/versions/3.8.6/lib/python3.8/site-packages/hazma/background_model.py:48: UserWarning: The gamma ray background model is not applicable for energy 0.100000 MeV.\n",
      "  warnings.warn(\n",
      "/Users/loganmorrison/.pyenv/versions/3.8.6/lib/python3.8/site-packages/hazma/theory/_theory_cmb.py:44: RuntimeWarning: divide by zero encountered in double_scalars\n",
      "  return p_ann * self.mx / self.f_eff(x_kd)\n",
      "/Users/loganmorrison/.pyenv/versions/3.8.6/lib/python3.8/site-packages/hazma/vector_mediator/_vector_mediator_spectra.py:112: IntegrationWarning: The integral is probably divergent, or slowly convergent.\n",
      "  return dnde_decay_v(e_gams, e_v, mv, pw_array, fs)\n",
      "/Users/loganmorrison/.pyenv/versions/3.8.6/lib/python3.8/site-packages/hazma/decay.py:54: IntegrationWarning: The integral is probably divergent, or slowly convergent.\n",
      "  return decay_muon.SpectrumPoint(photon_energies, muon_energy)\n",
      "/Users/loganmorrison/.pyenv/versions/3.8.6/lib/python3.8/site-packages/hazma/decay.py:141: IntegrationWarning: The integral is probably divergent, or slowly convergent.\n",
      "  return decay_charged_pion.Spectrum(photon_energies, pion_energy, mode)\n"
     ]
    },
    {
     "name": "stdout",
     "output_type": "stream",
     "text": [
      "\n"
     ]
    }
   ],
   "source": [
    "sv_constraints_vms2 = get_constraints(km, mxs, nt_targets=nt_targets_ann, m_meds=mvs)"
   ]
  },
  {
   "cell_type": "code",
   "execution_count": 22,
   "metadata": {
    "hidden": true
   },
   "outputs": [],
   "source": [
    "sv_constraints_vms2['telescopes'] = np.array([\n",
    "    np.min([\n",
    "        sv_constraints_vms2['comptel'][i],\n",
    "        sv_constraints_vms2['egret'][i],\n",
    "        sv_constraints_vms2['fermi'][i],\n",
    "        sv_constraints_vms2['integral'][i]\n",
    "    ])\n",
    "    for i in range(len(mxs))\n",
    "])"
   ]
  },
  {
   "cell_type": "markdown",
   "metadata": {},
   "source": [
    "### Compute the relic densities"
   ]
  },
  {
   "cell_type": "code",
   "execution_count": 7,
   "metadata": {},
   "outputs": [
    {
     "data": {
      "application/vnd.jupyter.widget-view+json": {
       "model_id": "3f9ab180a8884d3ea9ce918553c18ef7",
       "version_major": 2,
       "version_minor": 0
      },
      "text/plain": [
       "HBox(children=(HTML(value=''), FloatProgress(value=0.0), HTML(value='')))"
      ]
     },
     "metadata": {},
     "output_type": "display_data"
    },
    {
     "name": "stderr",
     "output_type": "stream",
     "text": [
      "/Users/loganmorrison/Nextcloud/Research/Hazma/hazma/vector_mediator/_vector_mediator_cross_sections.py:375: IntegrationWarning: The maximum number of subdivisions (50) has been achieved.\n",
      "  If increasing the limit yields no improvement it is advised to analyze \n",
      "  the integrand in order to determine the difficulties.  If the position of a \n",
      "  local difficulty can be determined (singularity, discontinuity) one will \n",
      "  probably gain from splitting up the interval and calling the integrator \n",
      "  on the subranges.  Perhaps a special-purpose integrator should be used.\n",
      "  return tcs(\n"
     ]
    },
    {
     "name": "stdout",
     "output_type": "stream",
     "text": [
      "\n"
     ]
    }
   ],
   "source": [
    "mxs = np.geomspace(0.1, 250.0, 100)\n",
    "mvs = 3 * mxs\n",
    "km = KineticMixing(**{\"mx\": 1., \"mv\": 1000.0, \"gvxx\": 1., \"eps\": 0.1})\n",
    "\n",
    "# Relic densities\n",
    "epss = np.logspace(-10, 1, 100)\n",
    "rds = np.zeros((len(mxs), len(epss)))\n",
    "for i in trange(len(mxs)):\n",
    "    km.mx = mxs[i]\n",
    "    km.mv = mvs[i]\n",
    "    for j, eps in enumerate(epss):\n",
    "        km.eps = eps\n",
    "        rds[i,j] = relic_density(km, semi_analytic=True)"
   ]
  },
  {
   "cell_type": "code",
   "execution_count": 8,
   "metadata": {},
   "outputs": [],
   "source": [
    "rd_mxs, rd_epss = __fix_contours(find_contours(rds.T, omega_h2_cdm), mxs, epss)[0]\n",
    "rd_svs = [get_svs_pheno(km, rd_mxs[i], 3*rd_mxs[i], rd_epss[i]) for i in range(len(rd_mxs))]"
   ]
  },
  {
   "cell_type": "markdown",
   "metadata": {},
   "source": [
    "### Compute PHENO constraints"
   ]
  },
  {
   "cell_type": "code",
   "execution_count": 11,
   "metadata": {},
   "outputs": [],
   "source": [
    "babar = np.array([babar_constraint(mx) for mx in mxs])\n",
    "lsnd = np.array([lsnd_constraint(mx) for mx in mxs])\n",
    "e137 = np.array([e137_constraint(mx) for mx in mxs])\n",
    "pheno = np.array([np.min([a,b,c]) for a,b,c in zip(babar,lsnd,e137)])"
   ]
  },
  {
   "cell_type": "markdown",
   "metadata": {},
   "source": [
    "### Save/Load data"
   ]
  },
  {
   "cell_type": "code",
   "execution_count": 15,
   "metadata": {},
   "outputs": [],
   "source": [
    "# Save the data\n",
    "# with open('data/kinetic_mixing_mx_third_mv.p', 'wb') as f:\n",
    "#     pickle.dump(sv_constraints_vms2, f)\n",
    "\n",
    "#Load the data\n",
    "sv_constraints_vms2 = None\n",
    "with open('data/kinetic_mixing_mx_third_mv.p', 'rb') as f:\n",
    "    sv_constraints_vms2 = pickle.load(f)"
   ]
  },
  {
   "cell_type": "code",
   "execution_count": 17,
   "metadata": {},
   "outputs": [],
   "source": [
    "sv_constraints_vms2['telescopes'] = np.array([\n",
    "    np.min([\n",
    "        sv_constraints_vms2['comptel'][i],\n",
    "        sv_constraints_vms2['egret'][i],\n",
    "        sv_constraints_vms2['fermi'][i],\n",
    "        sv_constraints_vms2['integral'][i]\n",
    "    ])\n",
    "    for i in range(len(mxs))\n",
    "])"
   ]
  },
  {
   "cell_type": "markdown",
   "metadata": {},
   "source": [
    "### Plots"
   ]
  },
  {
   "cell_type": "code",
   "execution_count": 20,
   "metadata": {
    "scrolled": false
   },
   "outputs": [
    {
     "data": {
      "image/png": "[encoded data removed]",
      "text/plain": [
       "<Figure size 1050x525 with 1 Axes>"
      ]
     },
     "metadata": {
      "needs_background": "light"
     },
     "output_type": "display_data"
    }
   ],
   "source": [
    "#fig, (ax1, ax2) = plt.subplots(1, 2)\n",
    "#fig.dpi = 150\n",
    "\n",
    "plt.figure(dpi=150, figsize=(7, 3.5))\n",
    "\n",
    "ymin, ymax = [1e-33, 1e-23]\n",
    "\n",
    "plt.plot(\n",
    "    mxs, \n",
    "    sv_constraints_vms2['cmb'], \n",
    "    label=r'CMB',\n",
    "    linestyle=\"--\",\n",
    "    color=\"black\",\n",
    ")\n",
    "\n",
    "plt.plot(\n",
    "    rd_mxs, \n",
    "    rd_svs, \n",
    "    label=r'Thermal Relic',\n",
    "    linestyle=\":\",\n",
    "    color=\"black\",\n",
    "    linewidth=1,\n",
    ")\n",
    "\n",
    "\n",
    "\"\"\"\n",
    "\n",
    "plt.fill_between(\n",
    "    mxs, \n",
    "    lsnd, \n",
    "    ymax, \n",
    "    label=r'LSND',\n",
    "    linestyle=\"-\",\n",
    "    color=colors[1],\n",
    "    alpha=0.3\n",
    ")\n",
    "\n",
    "plt.fill_between(\n",
    "    mxs, \n",
    "    e137, \n",
    "    ymax, \n",
    "    label=r'E137',\n",
    "    linestyle=\"-\",\n",
    "    color=colors[0],\n",
    "    alpha=0.3\n",
    ")\n",
    "\n",
    "plt.fill_between(\n",
    "    mxs, \n",
    "    babar, \n",
    "    ymax, \n",
    "    label=r'BaBar',\n",
    "    linestyle=\"-\",\n",
    "    color=colors[0],\n",
    "    alpha=0.3\n",
    ")\n",
    "\"\"\"\n",
    "\n",
    "plt.fill_between(\n",
    "    mxs, \n",
    "    sv_constraints_vms2['telescopes'], \n",
    "    ymax, \n",
    "    label=r'$\\gamma$-ray telescopes',\n",
    "    linestyle=\"-\",\n",
    "    color=colors[0],\n",
    "    alpha=0.3\n",
    ")\n",
    "\n",
    "plt.fill_between(\n",
    "    mxs, \n",
    "    pheno, \n",
    "    sv_constraints_vms2['telescopes'], \n",
    "    label=r'Other constraints',\n",
    "    linestyle=\"--\",\n",
    "    color=colors[1],\n",
    "    alpha=0.3\n",
    ")\n",
    "\n",
    "\n",
    "\n",
    "plt.plot(\n",
    "    mxs,     \n",
    "    sv_constraints_vms2['gecco_gc_ein_1_arcmin_cone_optimistic'],  \n",
    "    label=get_constraint_label('gecco_gc_ein_1_arcmin_cone_optimistic'),\n",
    "    linestyle=\"-\",\n",
    "    color=colors[4],\n",
    ")\n",
    "\n",
    "\n",
    "plt.plot(\n",
    "    mxs,     \n",
    "    sv_constraints_vms2['gecco_gc_nfw_1_arcmin_cone'],  \n",
    "    label=get_constraint_label('gecco_gc_nfw_1_arcmin_cone'),\n",
    "    linestyle=\"-\",\n",
    "    color=colors[5],\n",
    ")\n",
    "\n",
    "\n",
    "plt.plot(\n",
    "    mxs,     \n",
    "    sv_constraints_vms2['gecco_m31_nfw_1_arcmin_cone'],  \n",
    "    label=get_constraint_label('gecco_m31_nfw_1_arcmin_cone'),\n",
    "    linestyle=\"-\",\n",
    "    color=colors[6],\n",
    ")\n",
    "\n",
    "plt.plot(\n",
    "    mxs,     \n",
    "    sv_constraints_vms2['gecco_draco_nfw_1_arcmin_cone'],  \n",
    "    label=get_constraint_label('gecco_draco_nfw_1_arcmin_cone'),\n",
    "    linestyle=\"-\",\n",
    "    color=colors[7],\n",
    ")\n",
    "    \n",
    "\n",
    "plt.yscale('log')\n",
    "plt.xscale('log')\n",
    "    \n",
    "plt.ylim([ymin, ymax])\n",
    "plt.xlim([m_e*1.1, np.max(mxs)])\n",
    "plt.ylabel(r'$\\langle\\sigma v\\rangle \\ [\\mathrm{cm}^3\\mathrm{s}^{-1}]$',fontsize=16)\n",
    "plt.xlabel(r'$m_{\\chi} \\ [\\mathrm{MeV}]$',fontsize=16)\n",
    "\n",
    "plt.legend(loc=0, bbox_to_anchor=(1.1,0.75), fontsize=8)\n",
    "plt.tight_layout()\n",
    "#plt.show()\n",
    "plt.savefig('figures/gecco_kinetic_mixing.pdf')"
   ]
  },
  {
   "cell_type": "code",
   "execution_count": null,
   "metadata": {},
   "outputs": [],
   "source": []
  }
 ],
 "metadata": {
  "kernelspec": {
   "display_name": "Python 3",
   "language": "python",
   "name": "python3"
  },
  "language_info": {
   "codemirror_mode": {
    "name": "ipython",
    "version": 3
   },
   "file_extension": ".py",
   "mimetype": "text/x-python",
   "name": "python",
   "nbconvert_exporter": "python",
   "pygments_lexer": "ipython3",
   "version": "3.9.1"
  }
 },
 "nbformat": 4,
 "nbformat_minor": 4
}
